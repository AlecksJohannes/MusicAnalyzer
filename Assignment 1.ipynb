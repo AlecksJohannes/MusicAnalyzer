{
 "cells": [
  {
   "cell_type": "code",
   "execution_count": 1,
   "metadata": {},
   "outputs": [],
   "source": [
    "import pandas as pd\n",
    "import numpy as np\n",
    "from sklearn.metrics import classification_report, accuracy_score\n",
    "from nltk import ConfusionMatrix\n",
    "from sklearn.preprocessing import LabelEncoder\n",
    "label_encoder = LabelEncoder()\n",
    "from sklearn.preprocessing import MinMaxScaler \n",
    "min_max_scaler = MinMaxScaler()"
   ]
  },
  {
   "cell_type": "code",
   "execution_count": 2,
   "metadata": {
    "collapsed": true
   },
   "outputs": [],
   "source": [
    "genres_dataset = pd.read_json('MasterSongList.json')"
   ]
  },
  {
   "cell_type": "code",
   "execution_count": 3,
   "metadata": {
    "scrolled": true
   },
   "outputs": [
    {
     "data": {
      "text/html": [
       "<div>\n",
       "<style>\n",
       "    .dataframe thead tr:only-child th {\n",
       "        text-align: right;\n",
       "    }\n",
       "\n",
       "    .dataframe thead th {\n",
       "        text-align: left;\n",
       "    }\n",
       "\n",
       "    .dataframe tbody tr th {\n",
       "        vertical-align: top;\n",
       "    }\n",
       "</style>\n",
       "<table border=\"1\" class=\"dataframe\">\n",
       "  <thead>\n",
       "    <tr style=\"text-align: right;\">\n",
       "      <th></th>\n",
       "      <th>_id</th>\n",
       "      <th>album</th>\n",
       "      <th>artist</th>\n",
       "      <th>audio_features</th>\n",
       "      <th>context</th>\n",
       "      <th>decades</th>\n",
       "      <th>genres</th>\n",
       "      <th>lyrics_features</th>\n",
       "      <th>moods</th>\n",
       "      <th>name</th>\n",
       "      <th>new_context</th>\n",
       "      <th>picture</th>\n",
       "      <th>recording_id</th>\n",
       "      <th>sub_context</th>\n",
       "      <th>yt_id</th>\n",
       "      <th>yt_views</th>\n",
       "    </tr>\n",
       "  </thead>\n",
       "  <tbody>\n",
       "    <tr>\n",
       "      <th>0</th>\n",
       "      <td>{'$oid': '52fdfb440b9398049f3d7a8c'}</td>\n",
       "      <td>Gangnam Style (강남스타일)</td>\n",
       "      <td>PSY</td>\n",
       "      <td>[11, 0.912744, 0.083704, 132.069, 0.293137, 0....</td>\n",
       "      <td>[work out]</td>\n",
       "      <td>[]</td>\n",
       "      <td>[pop]</td>\n",
       "      <td>[oppa, gangnam, style, gangnam, style, najeneu...</td>\n",
       "      <td>[energetic, motivational]</td>\n",
       "      <td>Gangnam Style (강남스타일)</td>\n",
       "      <td>work out</td>\n",
       "      <td>http://images.musicnet.com/albums/073/463/405/...</td>\n",
       "      <td>50232.0</td>\n",
       "      <td>[working out: cardio]</td>\n",
       "      <td>9bZkp7q19f0</td>\n",
       "      <td>2450112089</td>\n",
       "    </tr>\n",
       "    <tr>\n",
       "      <th>1</th>\n",
       "      <td>{'$oid': '52fdfb3d0b9398049f3cbc8e'}</td>\n",
       "      <td>Native</td>\n",
       "      <td>OneRepublic</td>\n",
       "      <td>[6, 0.7457039999999999, 0.11995499999999999, 1...</td>\n",
       "      <td>[energetic]</td>\n",
       "      <td>[2012]</td>\n",
       "      <td>[pop]</td>\n",
       "      <td>[lately, i, ve, been, i, ve, been, losing, sle...</td>\n",
       "      <td>[happy]</td>\n",
       "      <td>Counting Stars</td>\n",
       "      <td>energetic</td>\n",
       "      <td>http://images.musicnet.com/albums/081/851/887/...</td>\n",
       "      <td>5839.0</td>\n",
       "      <td>[energy boost]</td>\n",
       "      <td>hT_nvWreIhg</td>\n",
       "      <td>1020297206</td>\n",
       "    </tr>\n",
       "    <tr>\n",
       "      <th>2</th>\n",
       "      <td>{'$oid': '52fdfb420b9398049f3d3ea5'}</td>\n",
       "      <td>Party Rock Anthem</td>\n",
       "      <td>LMFAO</td>\n",
       "      <td>[5, 0.709932, 0.231455, 130.03, 0.121740999999...</td>\n",
       "      <td>[energetic, energetic, energetic, energetic]</td>\n",
       "      <td>[]</td>\n",
       "      <td>[]</td>\n",
       "      <td>[party, rock, yeah, woo, let, s, go, party, ro...</td>\n",
       "      <td>[happy, celebratory, rowdy]</td>\n",
       "      <td>Party Rock Anthem</td>\n",
       "      <td>housework</td>\n",
       "      <td>http://images.musicnet.com/albums/049/414/127/...</td>\n",
       "      <td>52379.0</td>\n",
       "      <td>[energy boost, pleasing a crowd, housework, dr...</td>\n",
       "      <td>KQ6zr6kCPj8</td>\n",
       "      <td>971128436</td>\n",
       "    </tr>\n",
       "    <tr>\n",
       "      <th>3</th>\n",
       "      <td>{'$oid': '52fdfb410b9398049f3d1eac'}</td>\n",
       "      <td>Gentleman</td>\n",
       "      <td>PSY</td>\n",
       "      <td>[3, 0.705822, 0.053292, 126.009, 0.126016, 0.0...</td>\n",
       "      <td>[party, party, party, party, party, party]</td>\n",
       "      <td>[2010s]</td>\n",
       "      <td>[dance]</td>\n",
       "      <td>[alagamun, lan, weh, wakun, heya, hanun, gon, ...</td>\n",
       "      <td>[happy, energetic, celebratory]</td>\n",
       "      <td>Gentleman</td>\n",
       "      <td>energetic</td>\n",
       "      <td>http://images.musicnet.com/albums/082/950/461/...</td>\n",
       "      <td>12353.0</td>\n",
       "      <td>[driving in the left lane, energy boost, girls...</td>\n",
       "      <td>ASO_zypdnsQ</td>\n",
       "      <td>892096527</td>\n",
       "    </tr>\n",
       "    <tr>\n",
       "      <th>4</th>\n",
       "      <td>{'$oid': '52fdfb400b9398049f3d0b19'}</td>\n",
       "      <td>On The Floor</td>\n",
       "      <td>Jennifer Lopez</td>\n",
       "      <td>[3, 0.741757, 0.07277399999999999, 129.985, 0....</td>\n",
       "      <td>[party, party]</td>\n",
       "      <td>[2000s]</td>\n",
       "      <td>[reggaeton]</td>\n",
       "      <td>[j, lo, the, other, side, out, my, mine, it, s...</td>\n",
       "      <td>[energetic]</td>\n",
       "      <td>On The Floor</td>\n",
       "      <td>work out</td>\n",
       "      <td>http://images.musicnet.com/albums/050/131/765/...</td>\n",
       "      <td>29502.0</td>\n",
       "      <td>[working out: cardio, dance party: sweaty]</td>\n",
       "      <td>t4H_Zoh7G5A</td>\n",
       "      <td>873285189</td>\n",
       "    </tr>\n",
       "  </tbody>\n",
       "</table>\n",
       "</div>"
      ],
      "text/plain": [
       "                                    _id                  album  \\\n",
       "0  {'$oid': '52fdfb440b9398049f3d7a8c'}  Gangnam Style (강남스타일)   \n",
       "1  {'$oid': '52fdfb3d0b9398049f3cbc8e'}                 Native   \n",
       "2  {'$oid': '52fdfb420b9398049f3d3ea5'}      Party Rock Anthem   \n",
       "3  {'$oid': '52fdfb410b9398049f3d1eac'}              Gentleman   \n",
       "4  {'$oid': '52fdfb400b9398049f3d0b19'}           On The Floor   \n",
       "\n",
       "           artist                                     audio_features  \\\n",
       "0             PSY  [11, 0.912744, 0.083704, 132.069, 0.293137, 0....   \n",
       "1     OneRepublic  [6, 0.7457039999999999, 0.11995499999999999, 1...   \n",
       "2           LMFAO  [5, 0.709932, 0.231455, 130.03, 0.121740999999...   \n",
       "3             PSY  [3, 0.705822, 0.053292, 126.009, 0.126016, 0.0...   \n",
       "4  Jennifer Lopez  [3, 0.741757, 0.07277399999999999, 129.985, 0....   \n",
       "\n",
       "                                        context  decades       genres  \\\n",
       "0                                    [work out]       []        [pop]   \n",
       "1                                   [energetic]   [2012]        [pop]   \n",
       "2  [energetic, energetic, energetic, energetic]       []           []   \n",
       "3    [party, party, party, party, party, party]  [2010s]      [dance]   \n",
       "4                                [party, party]  [2000s]  [reggaeton]   \n",
       "\n",
       "                                     lyrics_features  \\\n",
       "0  [oppa, gangnam, style, gangnam, style, najeneu...   \n",
       "1  [lately, i, ve, been, i, ve, been, losing, sle...   \n",
       "2  [party, rock, yeah, woo, let, s, go, party, ro...   \n",
       "3  [alagamun, lan, weh, wakun, heya, hanun, gon, ...   \n",
       "4  [j, lo, the, other, side, out, my, mine, it, s...   \n",
       "\n",
       "                             moods                   name new_context  \\\n",
       "0        [energetic, motivational]  Gangnam Style (강남스타일)    work out   \n",
       "1                          [happy]         Counting Stars   energetic   \n",
       "2      [happy, celebratory, rowdy]      Party Rock Anthem   housework   \n",
       "3  [happy, energetic, celebratory]              Gentleman   energetic   \n",
       "4                      [energetic]           On The Floor    work out   \n",
       "\n",
       "                                             picture  recording_id  \\\n",
       "0  http://images.musicnet.com/albums/073/463/405/...       50232.0   \n",
       "1  http://images.musicnet.com/albums/081/851/887/...        5839.0   \n",
       "2  http://images.musicnet.com/albums/049/414/127/...       52379.0   \n",
       "3  http://images.musicnet.com/albums/082/950/461/...       12353.0   \n",
       "4  http://images.musicnet.com/albums/050/131/765/...       29502.0   \n",
       "\n",
       "                                         sub_context        yt_id    yt_views  \n",
       "0                              [working out: cardio]  9bZkp7q19f0  2450112089  \n",
       "1                                     [energy boost]  hT_nvWreIhg  1020297206  \n",
       "2  [energy boost, pleasing a crowd, housework, dr...  KQ6zr6kCPj8   971128436  \n",
       "3  [driving in the left lane, energy boost, girls...  ASO_zypdnsQ   892096527  \n",
       "4         [working out: cardio, dance party: sweaty]  t4H_Zoh7G5A   873285189  "
      ]
     },
     "execution_count": 3,
     "metadata": {},
     "output_type": "execute_result"
    }
   ],
   "source": [
    "genres_dataset.head(5)\n"
   ]
  },
  {
   "cell_type": "code",
   "execution_count": null,
   "metadata": {
    "collapsed": true
   },
   "outputs": [],
   "source": []
  },
  {
   "cell_type": "code",
   "execution_count": 4,
   "metadata": {
    "collapsed": true
   },
   "outputs": [],
   "source": [
    "## Preprocessing data and categorise \n",
    "\n",
    "def preprocess_data():\n",
    "    global filtered_genres_dataset\n",
    "    genres_dataset.loc[:, 'genres'] = genres_dataset['genres'].apply(''.join)\n",
    "    genres_dataset.loc[:, 'genres'] = genres_dataset['genres'].apply(consolidate_genre)\n",
    "    \n",
    "    dance_dataset = genres_dataset.loc[(genres_dataset['genres'] == 'dance')].sample(n=2000)\n",
    "    jazz_dataset = genres_dataset.loc[(genres_dataset['genres'] == 'jazz')].sample(n=2000)\n",
    "    country_dataset = genres_dataset.loc[(genres_dataset['genres'] == 'country')].sample(n=1200)\n",
    "    pop_dataset = genres_dataset.loc[(genres_dataset['genres'] == 'rock')].sample(n=2000)\n",
    "    filtered_genres_dataset = pd.concat([dance_dataset, jazz_dataset, country_dataset, pop_dataset])\n",
    "                             \n",
    "def consolidate_genre(genre):\n",
    "    if (len(genre) > 0):\n",
    "        return genre.split(':')[0]\n",
    "    else:\n",
    "        return genre\n",
    "    \n",
    "preprocess_data()\n"
   ]
  },
  {
   "cell_type": "code",
   "execution_count": 5,
   "metadata": {},
   "outputs": [
    {
     "data": {
      "text/html": [
       "<div>\n",
       "<style>\n",
       "    .dataframe thead tr:only-child th {\n",
       "        text-align: right;\n",
       "    }\n",
       "\n",
       "    .dataframe thead th {\n",
       "        text-align: left;\n",
       "    }\n",
       "\n",
       "    .dataframe tbody tr th {\n",
       "        vertical-align: top;\n",
       "    }\n",
       "</style>\n",
       "<table border=\"1\" class=\"dataframe\">\n",
       "  <thead>\n",
       "    <tr style=\"text-align: right;\">\n",
       "      <th></th>\n",
       "      <th>_id</th>\n",
       "      <th>album</th>\n",
       "      <th>artist</th>\n",
       "      <th>audio_features</th>\n",
       "      <th>context</th>\n",
       "      <th>decades</th>\n",
       "      <th>genres</th>\n",
       "      <th>lyrics_features</th>\n",
       "      <th>moods</th>\n",
       "      <th>name</th>\n",
       "      <th>new_context</th>\n",
       "      <th>picture</th>\n",
       "      <th>recording_id</th>\n",
       "      <th>sub_context</th>\n",
       "      <th>yt_id</th>\n",
       "      <th>yt_views</th>\n",
       "    </tr>\n",
       "  </thead>\n",
       "  <tbody>\n",
       "    <tr>\n",
       "      <th>17237</th>\n",
       "      <td>{'$oid': '52fdfb460b9398049f3da219'}</td>\n",
       "      <td>Versatile 98</td>\n",
       "      <td>I:Cube</td>\n",
       "      <td>[1, 0.796964, 0.053065999999999995, 129.235, 0...</td>\n",
       "      <td>[party, party, party, party]</td>\n",
       "      <td>['00s electronic]</td>\n",
       "      <td>dance</td>\n",
       "      <td>[]</td>\n",
       "      <td>[energetic, visceral]</td>\n",
       "      <td>Disco Cubizm (Daft Punk Remix)</td>\n",
       "      <td>coding</td>\n",
       "      <td>http://images.musicnet.com/albums/048/911/063/...</td>\n",
       "      <td>48043.0</td>\n",
       "      <td>[driving in the left lane, dance party: sweaty...</td>\n",
       "      <td>2uKja4Ij75Y</td>\n",
       "      <td>82725</td>\n",
       "    </tr>\n",
       "    <tr>\n",
       "      <th>18053</th>\n",
       "      <td>{'$oid': '52fdfb430b9398049f3d5fff'}</td>\n",
       "      <td>Factory Records: Communications, 1978-1992</td>\n",
       "      <td>Quando Quango</td>\n",
       "      <td>[11, 0.745764, 0.08394399999999999, 120.373, 0...</td>\n",
       "      <td>[energetic]</td>\n",
       "      <td>[1970s]</td>\n",
       "      <td>dance</td>\n",
       "      <td>[]</td>\n",
       "      <td>[energetic]</td>\n",
       "      <td>Love Tempo</td>\n",
       "      <td>NaN</td>\n",
       "      <td>http://images.musicnet.com/albums/031/288/965/...</td>\n",
       "      <td>68539.0</td>\n",
       "      <td>NaN</td>\n",
       "      <td>xGil0GvMWUo</td>\n",
       "      <td>69577</td>\n",
       "    </tr>\n",
       "    <tr>\n",
       "      <th>16557</th>\n",
       "      <td>{'$oid': '52fdfb420b9398049f3d3401'}</td>\n",
       "      <td>Mädchen In Uniform</td>\n",
       "      <td>Nachtmahr</td>\n",
       "      <td>[11, 0.9443600000000001, 0.614977, 160.006, 0....</td>\n",
       "      <td>[coding]</td>\n",
       "      <td>[2000s]</td>\n",
       "      <td>dance</td>\n",
       "      <td>[]</td>\n",
       "      <td>[energetic, cold, visceral]</td>\n",
       "      <td>Mädchen In Unform (Faderhead Remix)</td>\n",
       "      <td>coding</td>\n",
       "      <td>http://images.musicnet.com/albums/036/735/947/...</td>\n",
       "      <td>NaN</td>\n",
       "      <td>[coding]</td>\n",
       "      <td>AGVgOKPqch0</td>\n",
       "      <td>95739</td>\n",
       "    </tr>\n",
       "    <tr>\n",
       "      <th>4005</th>\n",
       "      <td>{'$oid': '52fdfb3e0b9398049f3ccdff'}</td>\n",
       "      <td>Platinum &amp; Gold Collection: The Best Of Real M...</td>\n",
       "      <td>Real McCoy</td>\n",
       "      <td>[1, 0.9238609999999999, 0.08168299999999999, 1...</td>\n",
       "      <td>[party, party]</td>\n",
       "      <td>[1990s]</td>\n",
       "      <td>dance</td>\n",
       "      <td>[runaway, runaway, runaway, and, save, your, l...</td>\n",
       "      <td>[energetic, celebratory]</td>\n",
       "      <td>Run Away (Single Version)</td>\n",
       "      <td>party</td>\n",
       "      <td>http://images.musicnet.com/albums/028/777/195/...</td>\n",
       "      <td>4413.0</td>\n",
       "      <td>[girls night out, dance party: fun &amp; funky]</td>\n",
       "      <td>jnM67j9So8w</td>\n",
       "      <td>3127898</td>\n",
       "    </tr>\n",
       "    <tr>\n",
       "      <th>31371</th>\n",
       "      <td>{'$oid': '52fdfb3d0b9398049f3cc38e'}</td>\n",
       "      <td>Hits, Remixes And Rarities: The Warner Brother...</td>\n",
       "      <td>Ashford &amp; Simpson</td>\n",
       "      <td>[3, 0.665794, 0.072278, 122.837, 0.04891099999...</td>\n",
       "      <td>[housework]</td>\n",
       "      <td>[1970s]</td>\n",
       "      <td>dance</td>\n",
       "      <td>[found, a, cure, ooh, for, your, heartache, be...</td>\n",
       "      <td>[celebratory, campy, lush]</td>\n",
       "      <td>Found A Cure (12-inch Disco Mix)</td>\n",
       "      <td>housework</td>\n",
       "      <td>http://images.musicnet.com/albums/013/006/127/...</td>\n",
       "      <td>54039.0</td>\n",
       "      <td>[housework]</td>\n",
       "      <td>rdq3BZfnxmU</td>\n",
       "      <td>3161</td>\n",
       "    </tr>\n",
       "  </tbody>\n",
       "</table>\n",
       "</div>"
      ],
      "text/plain": [
       "                                        _id  \\\n",
       "17237  {'$oid': '52fdfb460b9398049f3da219'}   \n",
       "18053  {'$oid': '52fdfb430b9398049f3d5fff'}   \n",
       "16557  {'$oid': '52fdfb420b9398049f3d3401'}   \n",
       "4005   {'$oid': '52fdfb3e0b9398049f3ccdff'}   \n",
       "31371  {'$oid': '52fdfb3d0b9398049f3cc38e'}   \n",
       "\n",
       "                                                   album             artist  \\\n",
       "17237                                       Versatile 98             I:Cube   \n",
       "18053         Factory Records: Communications, 1978-1992      Quando Quango   \n",
       "16557                                 Mädchen In Uniform          Nachtmahr   \n",
       "4005   Platinum & Gold Collection: The Best Of Real M...         Real McCoy   \n",
       "31371  Hits, Remixes And Rarities: The Warner Brother...  Ashford & Simpson   \n",
       "\n",
       "                                          audio_features  \\\n",
       "17237  [1, 0.796964, 0.053065999999999995, 129.235, 0...   \n",
       "18053  [11, 0.745764, 0.08394399999999999, 120.373, 0...   \n",
       "16557  [11, 0.9443600000000001, 0.614977, 160.006, 0....   \n",
       "4005   [1, 0.9238609999999999, 0.08168299999999999, 1...   \n",
       "31371  [3, 0.665794, 0.072278, 122.837, 0.04891099999...   \n",
       "\n",
       "                            context            decades genres  \\\n",
       "17237  [party, party, party, party]  ['00s electronic]  dance   \n",
       "18053                   [energetic]            [1970s]  dance   \n",
       "16557                      [coding]            [2000s]  dance   \n",
       "4005                 [party, party]            [1990s]  dance   \n",
       "31371                   [housework]            [1970s]  dance   \n",
       "\n",
       "                                         lyrics_features  \\\n",
       "17237                                                 []   \n",
       "18053                                                 []   \n",
       "16557                                                 []   \n",
       "4005   [runaway, runaway, runaway, and, save, your, l...   \n",
       "31371  [found, a, cure, ooh, for, your, heartache, be...   \n",
       "\n",
       "                             moods                                 name  \\\n",
       "17237        [energetic, visceral]       Disco Cubizm (Daft Punk Remix)   \n",
       "18053                  [energetic]                           Love Tempo   \n",
       "16557  [energetic, cold, visceral]  Mädchen In Unform (Faderhead Remix)   \n",
       "4005      [energetic, celebratory]            Run Away (Single Version)   \n",
       "31371   [celebratory, campy, lush]     Found A Cure (12-inch Disco Mix)   \n",
       "\n",
       "      new_context                                            picture  \\\n",
       "17237      coding  http://images.musicnet.com/albums/048/911/063/...   \n",
       "18053         NaN  http://images.musicnet.com/albums/031/288/965/...   \n",
       "16557      coding  http://images.musicnet.com/albums/036/735/947/...   \n",
       "4005        party  http://images.musicnet.com/albums/028/777/195/...   \n",
       "31371   housework  http://images.musicnet.com/albums/013/006/127/...   \n",
       "\n",
       "       recording_id                                        sub_context  \\\n",
       "17237       48043.0  [driving in the left lane, dance party: sweaty...   \n",
       "18053       68539.0                                                NaN   \n",
       "16557           NaN                                           [coding]   \n",
       "4005         4413.0        [girls night out, dance party: fun & funky]   \n",
       "31371       54039.0                                        [housework]   \n",
       "\n",
       "             yt_id  yt_views  \n",
       "17237  2uKja4Ij75Y     82725  \n",
       "18053  xGil0GvMWUo     69577  \n",
       "16557  AGVgOKPqch0     95739  \n",
       "4005   jnM67j9So8w   3127898  \n",
       "31371  rdq3BZfnxmU      3161  "
      ]
     },
     "execution_count": 5,
     "metadata": {},
     "output_type": "execute_result"
    }
   ],
   "source": [
    "filtered_genres_dataset.head(5)"
   ]
  },
  {
   "cell_type": "code",
   "execution_count": 6,
   "metadata": {
    "collapsed": true
   },
   "outputs": [],
   "source": [
    "### Setting up data frame\n",
    "audio_feature_headers = ['key', \n",
    "                         'energy', \n",
    "                         'liveliness', \n",
    "                         'tempo', \n",
    "                         'speechiness', \n",
    "                         'acousticness', \n",
    "                         'instrumentalness', \n",
    "                         'time_signature', \n",
    "                         'duration', \n",
    "                         'loudness', \n",
    "                         'valence', \n",
    "                         'danceability', \n",
    "                         'mode', \n",
    "                         'time_signature_confidence', \n",
    "                         'tempo_confidence', \n",
    "                         'key_confidence', \n",
    "                         'mode_confidence',\n",
    "                         'moods',\n",
    "                         'new_context',\n",
    "                        ] \n",
    "audio_features_list = []\n",
    "for audio_feature in filtered_genres_dataset['audio_features']:\n",
    "    audio_features_list.append(audio_feature)\n",
    "\n",
    "for index, mood in enumerate(filtered_genres_dataset['moods']):\n",
    "    audio_features_list[index].append(mood)\n",
    "    \n",
    "for index, context in enumerate(filtered_genres_dataset['new_context']):\n",
    "    audio_features_list[index].append(context)\n",
    "    \n",
    "df_features = pd.DataFrame(audio_features_list, columns=audio_feature_headers)"
   ]
  },
  {
   "cell_type": "code",
   "execution_count": 7,
   "metadata": {
    "collapsed": true
   },
   "outputs": [],
   "source": [
    "filtered_genres_dataset['genres'].reset_index(drop=True, inplace=True)\n",
    "df_features['genres'] = filtered_genres_dataset['genres']\n"
   ]
  },
  {
   "cell_type": "code",
   "execution_count": 8,
   "metadata": {
    "collapsed": true
   },
   "outputs": [],
   "source": [
    "# Remove missing data instead of guessing  \n",
    "df_features.dropna(inplace=True)"
   ]
  },
  {
   "cell_type": "code",
   "execution_count": 9,
   "metadata": {},
   "outputs": [],
   "source": [
    "# Balanced 2 genres dataset with 10 kfold score  \n",
    "\n",
    "two_genres_dance_type = df_features.loc[df_features['genres'] == 'dance'].sample(n=1200)\n",
    "two_genres_jazz_type = df_features.loc[df_features['genres'] == 'jazz'].sample(n=1200)\n",
    "two_genres = pd.concat([two_genres_dance_type, two_genres_jazz_type])\n",
    "\n",
    "ub_two_genres_dance_type = df_features.loc[df_features['genres'] == 'dance'].sample(n=1200)\n",
    "ub_two_genres_jazz_type = df_features.loc[df_features['genres'] == 'jazz'].sample(n=600)\n",
    "ub_two_genres = pd.concat([ub_two_genres_dance_type, ub_two_genres_jazz_type])"
   ]
  },
  {
   "cell_type": "code",
   "execution_count": 10,
   "metadata": {},
   "outputs": [],
   "source": [
    "## Transforming data\n",
    "two_genres['moods'] = label_encoder.fit_transform(two_genres['moods'])\n",
    "two_genres['new_context'] = label_encoder.fit_transform(two_genres['new_context'])\n",
    "\n",
    "two_genres_labels = two_genres['genres']\n",
    "\n",
    "ub_two_genres['moods'] = label_encoder.fit_transform(ub_two_genres['moods'])\n",
    "ub_two_genres['new_context'] = label_encoder.fit_transform(ub_two_genres['new_context'])\n",
    "\n",
    "ub_two_genres_labels = ub_two_genres['genres']"
   ]
  },
  {
   "cell_type": "code",
   "execution_count": 11,
   "metadata": {},
   "outputs": [],
   "source": [
    "# Filtered out unnecessary columns \n",
    "two_genres = two_genres.drop(['genres', \n",
    "                                'mode_confidence',\n",
    "                                'time_signature',\n",
    "                                'duration',\n",
    "                                'time_signature_confidence', \n",
    "                                'key', \n",
    "                                'tempo',\n",
    "                                'key_confidence',\n",
    "                                'tempo_confidence',\n",
    "                                'liveliness',\n",
    "                                'loudness',\n",
    "                                'instrumentalness',\n",
    "                               ], axis=1)\n",
    "\n",
    "ub_two_genres = ub_two_genres.drop(['genres', \n",
    "                                'mode_confidence',\n",
    "                                'time_signature',\n",
    "                                'duration',\n",
    "                                'time_signature_confidence', \n",
    "                                'key', \n",
    "                                'tempo',\n",
    "                                'key_confidence',\n",
    "                                'tempo_confidence',\n",
    "                                'liveliness',\n",
    "                                'loudness',\n",
    "                                'instrumentalness',\n",
    "                               ], axis=1)"
   ]
  },
  {
   "cell_type": "code",
   "execution_count": 13,
   "metadata": {},
   "outputs": [],
   "source": [
    "two_genres_features = min_max_scaler.fit_transform(two_genres)\n",
    "two_genres_df = pd.DataFrame(two_genres_features, columns=two_genres.columns)\n",
    "\n",
    "ub_two_genres_features = min_max_scaler.fit_transform(ub_two_genres)\n",
    "ub_two_genres_df = pd.DataFrame(ub_two_genres_features, columns=ub_two_genres.columns)"
   ]
  },
  {
   "cell_type": "code",
   "execution_count": 14,
   "metadata": {},
   "outputs": [
    {
     "name": "stderr",
     "output_type": "stream",
     "text": [
      "/anaconda/lib/python3.6/site-packages/sklearn/cross_validation.py:44: DeprecationWarning: This module was deprecated in version 0.18 in favor of the model_selection module into which all the refactored classes and functions are moved. Also note that the interface of the new CV iterators are different from that of this module. This module will be removed in 0.20.\n",
      "  \"This module will be removed in 0.20.\", DeprecationWarning)\n"
     ]
    },
    {
     "data": {
      "text/plain": [
       "0.97277777777777763"
      ]
     },
     "execution_count": 14,
     "metadata": {},
     "output_type": "execute_result"
    }
   ],
   "source": [
    "from sklearn.model_selection import train_test_split\n",
    "from sklearn.cross_validation import cross_val_score\n",
    "from sklearn.neighbors import KNeighborsClassifier\n",
    "\n",
    "knn = KNeighborsClassifier(algorithm='auto', leaf_size=30,\n",
    "           metric_params=None, n_jobs=1, n_neighbors=3, p=2)\n",
    "\n",
    "X_train, X_test, y_train, y_test = train_test_split(ub_two_genres_df,\n",
    "                                                    ub_two_genres_labels, \n",
    "                                                    test_size = 0.33, \n",
    "                                                    random_state = 101)\n",
    "\n",
    "knn.fit(X_train, y_train)\n",
    "pred = knn.predict(X_test)\n",
    "np.mean(cross_val_score(knn, ub_two_genres_df, ub_two_genres_labels, cv=10))"
   ]
  },
  {
   "cell_type": "code",
   "execution_count": 15,
   "metadata": {},
   "outputs": [
    {
     "name": "stdout",
     "output_type": "stream",
     "text": [
      "0.96632996633\n"
     ]
    }
   ],
   "source": [
    "print(accuracy_score(y_test, pred))"
   ]
  },
  {
   "cell_type": "code",
   "execution_count": 16,
   "metadata": {},
   "outputs": [
    {
     "name": "stdout",
     "output_type": "stream",
     "text": [
      "             precision    recall  f1-score   support\n",
      "\n",
      "      dance       0.97      0.97      0.97       400\n",
      "       jazz       0.95      0.95      0.95       194\n",
      "\n",
      "avg / total       0.97      0.97      0.97       594\n",
      "\n"
     ]
    }
   ],
   "source": [
    "print(classification_report(y_test, pred))"
   ]
  },
  {
   "cell_type": "markdown",
   "metadata": {},
   "source": [
    "## Unbalanced data can cause affect score, IMHO. I think it because data somehow did not make the score changes significantly. Also we are doing samples which mean there will be deviation between each dataset"
   ]
  },
  {
   "cell_type": "code",
   "execution_count": 17,
   "metadata": {},
   "outputs": [
    {
     "data": {
      "text/plain": [
       "0.97041666666666659"
      ]
     },
     "execution_count": 17,
     "metadata": {},
     "output_type": "execute_result"
    }
   ],
   "source": [
    "from sklearn.model_selection import train_test_split\n",
    "from sklearn.cross_validation import cross_val_score\n",
    "from sklearn.neighbors import KNeighborsClassifier\n",
    "\n",
    "knn = KNeighborsClassifier(algorithm='auto', leaf_size=30,\n",
    "           metric_params=None, n_jobs=1, n_neighbors=3, p=2)\n",
    "\n",
    "X_train, X_test, y_train, y_test = train_test_split(two_genres_df,\n",
    "                                                    two_genres_labels, \n",
    "                                                    test_size = 0.33, \n",
    "                                                    random_state = 101)\n",
    "\n",
    "knn.fit(X_train, y_train)\n",
    "pred = knn.predict(X_test)\n",
    "np.mean(cross_val_score(knn, two_genres_df, two_genres_labels, cv=10))"
   ]
  },
  {
   "cell_type": "code",
   "execution_count": 18,
   "metadata": {},
   "outputs": [
    {
     "name": "stdout",
     "output_type": "stream",
     "text": [
      "      |   d     |\n",
      "      |   a   j |\n",
      "      |   n   a |\n",
      "      |   c   z |\n",
      "      |   e   z |\n",
      "------+---------+\n",
      "dance |<394> 12 |\n",
      " jazz |  14<372>|\n",
      "------+---------+\n",
      "(row = reference; col = test)\n",
      "\n"
     ]
    }
   ],
   "source": [
    "print(ConfusionMatrix(list(y_test), list(pred)))"
   ]
  },
  {
   "cell_type": "code",
   "execution_count": 19,
   "metadata": {},
   "outputs": [
    {
     "name": "stdout",
     "output_type": "stream",
     "text": [
      "0.967171717172\n"
     ]
    }
   ],
   "source": [
    "print(accuracy_score(y_test, pred))"
   ]
  },
  {
   "cell_type": "code",
   "execution_count": 20,
   "metadata": {},
   "outputs": [
    {
     "name": "stdout",
     "output_type": "stream",
     "text": [
      "             precision    recall  f1-score   support\n",
      "\n",
      "      dance       0.97      0.97      0.97       406\n",
      "       jazz       0.97      0.96      0.97       386\n",
      "\n",
      "avg / total       0.97      0.97      0.97       792\n",
      "\n"
     ]
    }
   ],
   "source": [
    "print(classification_report(y_test, pred))"
   ]
  },
  {
   "cell_type": "code",
   "execution_count": 21,
   "metadata": {},
   "outputs": [],
   "source": [
    "# Unbalanced data with 3 genres and 10 kfold score.\n",
    "three_genres_dance_type = df_features.loc[df_features['genres'] == 'dance'].sample(n=1200)\n",
    "three_genres_jazz_type = df_features.loc[df_features['genres'] == 'jazz'].sample(n=1200)\n",
    "three_genres_country_type = df_features.loc[(df_features['genres'] == 'country')].sample(n=600)\n",
    "three_genres = pd.concat([three_genres_dance_type, three_genres_jazz_type, three_genres_country_type])"
   ]
  },
  {
   "cell_type": "code",
   "execution_count": 22,
   "metadata": {},
   "outputs": [],
   "source": [
    "three_genres['moods'] = label_encoder.fit_transform(three_genres['moods'])\n",
    "three_genres['new_context'] = label_encoder.fit_transform(three_genres['new_context'])\n",
    "\n",
    "three_genres_labels = three_genres['genres']"
   ]
  },
  {
   "cell_type": "code",
   "execution_count": 23,
   "metadata": {},
   "outputs": [],
   "source": [
    "# Filtered out unnecessary columns \n",
    "three_genres = three_genres.drop(['genres', \n",
    "                                'mode_confidence',\n",
    "                                'time_signature',\n",
    "                                'duration',\n",
    "                                'time_signature_confidence', \n",
    "                                'key', \n",
    "                                'tempo',\n",
    "                                'key_confidence',\n",
    "                                'tempo_confidence',\n",
    "                                'liveliness',\n",
    "                                'instrumentalness',\n",
    "                               ], axis=1)"
   ]
  },
  {
   "cell_type": "code",
   "execution_count": 24,
   "metadata": {},
   "outputs": [],
   "source": [
    "three_genres_features = min_max_scaler.fit_transform(three_genres)\n",
    "three_genres_df = pd.DataFrame(three_genres_features, columns=three_genres.columns)"
   ]
  },
  {
   "cell_type": "code",
   "execution_count": 25,
   "metadata": {},
   "outputs": [
    {
     "data": {
      "text/plain": [
       "0.93800000000000006"
      ]
     },
     "execution_count": 25,
     "metadata": {},
     "output_type": "execute_result"
    }
   ],
   "source": [
    "from sklearn.model_selection import train_test_split\n",
    "from sklearn.cross_validation import cross_val_score\n",
    "from sklearn.neighbors import KNeighborsClassifier\n",
    "\n",
    "knn = KNeighborsClassifier(algorithm='auto', leaf_size=30,\n",
    "           metric_params=None, n_jobs=1, n_neighbors=3, p=2)\n",
    "\n",
    "X_train, X_test, y_train, y_test = train_test_split(three_genres_df,\n",
    "                                                    three_genres_labels, \n",
    "                                                    test_size = 0.33, \n",
    "                                                    random_state = 101)\n",
    "knn.fit(X_train, y_train)\n",
    "pred = knn.predict(X_test)\n",
    "np.mean(cross_val_score(knn, three_genres_df, three_genres_labels, cv=10))"
   ]
  },
  {
   "cell_type": "code",
   "execution_count": 26,
   "metadata": {},
   "outputs": [
    {
     "name": "stdout",
     "output_type": "stream",
     "text": [
      "        |   c         |\n",
      "        |   o         |\n",
      "        |   u   d     |\n",
      "        |   n   a   j |\n",
      "        |   t   n   a |\n",
      "        |   r   c   z |\n",
      "        |   y   e   z |\n",
      "--------+-------------+\n",
      "country |<180>  3   6 |\n",
      "  dance |  14<390> 12 |\n",
      "   jazz |   7  11<367>|\n",
      "--------+-------------+\n",
      "(row = reference; col = test)\n",
      "\n"
     ]
    }
   ],
   "source": [
    "print(ConfusionMatrix(list(y_test), list(pred)))"
   ]
  },
  {
   "cell_type": "code",
   "execution_count": 27,
   "metadata": {},
   "outputs": [
    {
     "name": "stdout",
     "output_type": "stream",
     "text": [
      "0.946464646465\n"
     ]
    }
   ],
   "source": [
    "print(accuracy_score(y_test, pred))"
   ]
  },
  {
   "cell_type": "code",
   "execution_count": 28,
   "metadata": {},
   "outputs": [
    {
     "name": "stdout",
     "output_type": "stream",
     "text": [
      "             precision    recall  f1-score   support\n",
      "\n",
      "    country       0.90      0.95      0.92       189\n",
      "      dance       0.97      0.94      0.95       416\n",
      "       jazz       0.95      0.95      0.95       385\n",
      "\n",
      "avg / total       0.95      0.95      0.95       990\n",
      "\n"
     ]
    }
   ],
   "source": [
    "print(classification_report(y_test, pred))"
   ]
  },
  {
   "cell_type": "code",
   "execution_count": 29,
   "metadata": {},
   "outputs": [],
   "source": [
    "df_features['moods'] = label_encoder.fit_transform(df_features['moods'])\n",
    "df_features['new_context'] = label_encoder.fit_transform(df_features['new_context'])\n",
    "labels_final = df_features['genres']\n",
    "\n",
    "# Filtered out unnecessary columns \n",
    "df_features = df_features.drop(['genres', \n",
    "                                'mode_confidence',\n",
    "                                'time_signature',\n",
    "                                'duration',\n",
    "                                'time_signature_confidence', \n",
    "                                'key', \n",
    "                                'tempo',\n",
    "                                'key_confidence',\n",
    "                                'tempo_confidence',\n",
    "                                'liveliness',\n",
    "                                'valence',\n",
    "                               ], axis=1)"
   ]
  },
  {
   "cell_type": "code",
   "execution_count": 30,
   "metadata": {},
   "outputs": [],
   "source": [
    "df_scaled_features = min_max_scaler.fit_transform(df_features)\n",
    "df_features_final = pd.DataFrame(df_scaled_features, columns=df_features.columns)"
   ]
  },
  {
   "cell_type": "code",
   "execution_count": 31,
   "metadata": {},
   "outputs": [
    {
     "data": {
      "text/plain": [
       "0.84626812202818602"
      ]
     },
     "execution_count": 31,
     "metadata": {},
     "output_type": "execute_result"
    }
   ],
   "source": [
    "from sklearn.model_selection import train_test_split\n",
    "from sklearn.cross_validation import cross_val_score\n",
    "from sklearn.neighbors import KNeighborsClassifier\n",
    "\n",
    "knn = KNeighborsClassifier(algorithm='auto', leaf_size=30,\n",
    "           metric_params=None, n_jobs=1, n_neighbors=3, p=2)\n",
    "\n",
    "X_train, X_test, y_train, y_test = train_test_split(df_features_final,\n",
    "                                                    labels_final, \n",
    "                                                    test_size = 0.33, \n",
    "                                                    random_state = 101)\n",
    "knn.fit(X_train, y_train)\n",
    "pred = knn.predict(X_test)\n",
    "np.mean(cross_val_score(knn, df_features_final, labels_final, cv=10))"
   ]
  },
  {
   "cell_type": "code",
   "execution_count": 32,
   "metadata": {},
   "outputs": [
    {
     "name": "stdout",
     "output_type": "stream",
     "text": [
      "             precision    recall  f1-score   support\n",
      "\n",
      "    country       0.67      0.85      0.75       208\n",
      "      dance       0.88      0.90      0.89       466\n",
      "       jazz       0.93      0.92      0.92       521\n",
      "       rock       0.81      0.68      0.74       359\n",
      "\n",
      "avg / total       0.85      0.85      0.85      1554\n",
      "\n"
     ]
    }
   ],
   "source": [
    "print(classification_report(y_test, pred))"
   ]
  },
  {
   "cell_type": "code",
   "execution_count": 33,
   "metadata": {},
   "outputs": [
    {
     "name": "stdout",
     "output_type": "stream",
     "text": [
      "0.848133848134\n"
     ]
    }
   ],
   "source": [
    "print(accuracy_score(y_test, pred))"
   ]
  },
  {
   "cell_type": "markdown",
   "metadata": {
    "collapsed": true
   },
   "source": []
  },
  {
   "cell_type": "markdown",
   "metadata": {},
   "source": []
  },
  {
   "cell_type": "code",
   "execution_count": null,
   "metadata": {
    "collapsed": true
   },
   "outputs": [],
   "source": [
    "### "
   ]
  }
 ],
 "metadata": {
  "kernelspec": {
   "display_name": "Python 3",
   "language": "python",
   "name": "python3"
  },
  "language_info": {
   "codemirror_mode": {
    "name": "ipython",
    "version": 3
   },
   "file_extension": ".py",
   "mimetype": "text/x-python",
   "name": "python",
   "nbconvert_exporter": "python",
   "pygments_lexer": "ipython3",
   "version": "3.6.1"
  }
 },
 "nbformat": 4,
 "nbformat_minor": 2
}
